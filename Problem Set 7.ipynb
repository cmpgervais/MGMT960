{
 "cells": [
  {
   "cell_type": "markdown",
   "metadata": {},
   "source": [
    "## Problem Set 7\n",
    "MGMT 860/960 Deterministic Methods in Operations Research\n",
    "\n",
    "Chris Gervais - 20042208"
   ]
  },
  {
   "cell_type": "markdown",
   "metadata": {},
   "source": [
    "## Problem 1:\n",
    "First, we build the graph using the `networkx` library. We initially use an implementation of Dijkstra's shortest path algorithm contained in the `networkx` library and display the result. Finally, we provide a custom implementation of Dijkstra’s shortest path algorithm and demonstrate our implementation finds the same solution as the open source solution in `networkx.dijkstra_path()`.\n",
    "\n",
    "### Building the graph:"
   ]
  },
  {
   "cell_type": "code",
   "execution_count": 592,
   "metadata": {},
   "outputs": [
    {
     "name": "stdout",
     "output_type": "stream",
     "text": [
      "NetworkX shortest path: ['A', 'C', 'D', 'E', 'G']\n"
     ]
    },
    {
     "data": {
      "image/png": "[encoded data removed]",
      "text/plain": [
       "<Figure size 432x288 with 1 Axes>"
      ]
     },
     "metadata": {},
     "output_type": "display_data"
    }
   ],
   "source": [
    "import matplotlib.pyplot as plt\n",
    "import networkx as nx\n",
    "import numpy as np\n",
    "import pandas as pd\n",
    "from matplotlib import cm\n",
    "from math import inf, exp\n",
    "\n",
    "nodes = \"ABCDEFG\"\n",
    "edges = [\n",
    "    (\"A\", \"B\", 2),\n",
    "    (\"A\", \"C\", 1),\n",
    "    (\"A\", \"D\", 5),\n",
    "    (\"B\", \"D\", 2),\n",
    "    (\"B\", \"E\", 7),\n",
    "    (\"C\", \"D\", 1),\n",
    "    (\"C\", \"F\", 4),\n",
    "    (\"D\", \"E\", 4),\n",
    "    (\"D\", \"F\", 3),\n",
    "    (\"E\", \"G\", 5),\n",
    "    (\"F\", \"G\", 7),\n",
    "]\n",
    "\n",
    "edge_labels = {}\n",
    "for i, j, weight in edges:\n",
    "    edge_labels[(i, j)] = weight\n",
    "\n",
    "g = nx.Graph()\n",
    "g.add_nodes_from(nodes)\n",
    "g.add_weighted_edges_from(edges)\n",
    "pos = nx.spectral_layout(g) \n",
    "\n",
    "shortest_path = nx.dijkstra_path(g, \"A\", \"G\")\n",
    "shortest_path.append(None)\n",
    "shortest_colours={}\n",
    "shortest_weights={}\n",
    "i = 0\n",
    "while shortest_path[i] != \"G\":\n",
    "    j = i + 1\n",
    "    edge = (shortest_path[i], shortest_path[j])\n",
    "    shortest_colours[edge] = \"red\"\n",
    "    shortest_weights[edge] = 3\n",
    "    i += 1\n",
    "\n",
    "edge_colours = []\n",
    "edge_weights = []\n",
    "for edge in g.edges():\n",
    "    try:\n",
    "        edge_colours.append(shortest_colours[edge])\n",
    "        edge_weights.append(shortest_weights[edge])\n",
    "    except KeyError:\n",
    "        edge_colours.append(\"black\")\n",
    "        edge_weights.append(1)\n",
    "\n",
    "nx.draw_networkx_edge_labels(g, pos, \n",
    "    edge_labels=edge_labels, font_color='black', font_size=12)\n",
    "\n",
    "nx.draw_spectral(g, with_labels=True, width=edge_weights, \n",
    "                 edge_color=edge_colours, \n",
    "                 node_color=\"grey\", node_size=500)\n",
    "\n",
    "print(f'NetworkX shortest path: {nx.dijkstra_path(g, \"A\", \"G\")}')\n",
    "\n",
    "plt.show()"
   ]
  },
  {
   "cell_type": "code",
   "execution_count": 593,
   "metadata": {},
   "outputs": [],
   "source": [
    "def my_dijkstra_algorithm(graph, source, sink):\n",
    "    dist_from_source = {\n",
    "        node: {\"dist\": inf, \"previous_node\": \"A\"} \n",
    "        for node in graph.nodes()\n",
    "    }\n",
    "    dist_from_source[source][\"dist\"] = 0\n",
    "\n",
    "    dict_node_length = {source: 0}\n",
    "    while dict_node_length :\n",
    "        source_node = min(dict_node_length, key = lambda k: dict_node_length[k])\n",
    "        del dict_node_length[source_node]\n",
    "\n",
    "        for adjacent_node, weight_dict in graph[source_node].items():\n",
    "            length_to_adjnode = weight_dict[\"weight\"]\n",
    "            adj_dist = dist_from_source[adjacent_node][\"dist\"]\n",
    "            source_dist = dist_from_source[source_node][\"dist\"]\n",
    "\n",
    "            if adj_dist > source_dist + length_to_adjnode:\n",
    "                dist_from_source[adjacent_node][\"dist\"] = source_dist + length_to_adjnode\n",
    "                dict_node_length[adjacent_node] = dist_from_source[adjacent_node][\"dist\"]\n",
    "                dist_from_source[adjacent_node][\"previous_node\"] = source_node\n",
    "            \n",
    "    node = sink\n",
    "    path = [node]\n",
    "    while node is not source:\n",
    "        node = dist_from_source[node][\"previous_node\"]\n",
    "        path.append(node)\n",
    "    \n",
    "    for node in graph.nodes() :\n",
    "        print(f\"Source: {source} -> Sink {node}: \",\n",
    "              f\"{str(dist_from_source[node])}\")\n",
    "        \n",
    "    print(f'\\nThe optimal path is {[node for node in reversed(path)]} ', \n",
    "          f'and is {dist_from_source[sink][\"dist\"]} units long.')\n",
    "    return dist_from_source"
   ]
  },
  {
   "cell_type": "code",
   "execution_count": 594,
   "metadata": {},
   "outputs": [
    {
     "name": "stdout",
     "output_type": "stream",
     "text": [
      "Source: A -> Sink A:  {'dist': 0, 'previous_node': 'A'}\n",
      "Source: A -> Sink B:  {'dist': 2, 'previous_node': 'A'}\n",
      "Source: A -> Sink C:  {'dist': 1, 'previous_node': 'A'}\n",
      "Source: A -> Sink D:  {'dist': 2, 'previous_node': 'C'}\n",
      "Source: A -> Sink E:  {'dist': 6, 'previous_node': 'D'}\n",
      "Source: A -> Sink F:  {'dist': 5, 'previous_node': 'C'}\n",
      "Source: A -> Sink G:  {'dist': 11, 'previous_node': 'E'}\n",
      "\n",
      "The optimal path is ['A', 'C', 'D', 'E', 'G']  and is 11 units long.\n"
     ]
    }
   ],
   "source": [
    "dist_from_source = my_dijkstra_algorithm(g, \"A\", \"G\")"
   ]
  },
  {
   "cell_type": "markdown",
   "metadata": {},
   "source": [
    "## Problem 2:"
   ]
  },
  {
   "cell_type": "markdown",
   "metadata": {},
   "source": [
    "Here, we formulate the question as a network problem by representing each doctor as a supply node, each vacation day as a demand node, and each arc between them as the doctor's availability to work that vacation day. Formally;\n",
    "\n",
    "Let $a_{i,j,d}$ be the avaiability of doctor $i$ to work on day $d$ in vacatation period $j$, which is 1 if day $d$ $\\in S_i$, the set of available vacation days for doctor $i$, and some large number $M$ otherwise. Further, let $w_{i, j, d}$ be the decision to allocate doctor $i$ to work on day $d$ in vacation period $j$, where 1 represents doctor $i$ working day $d$, and 0 represents a day off for doctor $i$ on day $d$. Finally, let $m_j$ denote the number of days in the set of continguous days in $D_j$. Then this problem can be formulated as:\n",
    "\n",
    "$$\n",
    "\\begin{array}{l@{\\quad} r c l}\n",
    "    \\mathrm{minimize}       &  \\sum_{i=1}^{n} \\sum_{j=1}^{k} \\sum_{d=1}^{m_j} a_{i, j, d} w_{i, j, d}  \\\\\n",
    "    \\mathrm{subject~to} &   \\sum_{d=1}^{m_j} w_{i, j, d} & \\le & 1 & \\forall i \\in n, \\forall j \\in k\\\\\n",
    "    &   \\sum_{j=1}^{k} \\sum_{d=1}^{m_j} w_{i, j, d} & \\le & c & \\forall i \\in n\\\\\n",
    "    &  \\sum_{i=1}^{n} w_{i, j, d} & = & 1 & \\forall d \\in m_j \\forall j \\in k \\\\\n",
    " \\end{array}\n",
    "$$"
   ]
  },
  {
   "cell_type": "markdown",
   "metadata": {},
   "source": [
    "## Problem 3:\n",
    "\n",
    "Each of $n$ teams plays against every other team a total of $k$ games. Assume that every game ends in a win or a loss (no draws) and let $x_i$ be the number of wins of team $i$. Let $X$ be the set of all possible outcome vectors $(x_1, \\ldots, x_n)$. Given an arbitrary vector $(x_1, \\ldots, x_n)$, we would like to determine whether it belongs to $X$, that is, whether it is a possible tournament outcome vector. Provide a network formulation of this problem.\n",
    "\n",
    "First, we introduce a supply node for each of the $n$ teams, $T_1, \\ldots, T_n$, with supply capacity of $x_i$, the total number of games won by team $i$. Next, for every unordered pair of $i$, $j$ teams, we introduce game nodes $G_{i, j}$ which have demand $k$, the total number of games played between any two teams. There are two arcs that come into a node $G_{i,j}$; one from $T_i$ and one from $T_j$. The flow from $T_i$ to $G_{i,j}$ represents the total number of wins for team $i$ when they played team $j$. Since there are no draws, the total number of games must be equal to the total number of wins, and therefore $\\sum_{i=1}^{n}  x_i = n(n-1)k/2$. Finally, we note that a network flow problem constructed in such a way is feasible if and only if the vector $(x_1, \\ldots, x_n)$ belongs to the set $X$ of all possible outcome vectors."
   ]
  },
  {
   "cell_type": "markdown",
   "metadata": {},
   "source": [
    "## Problem 4:"
   ]
  },
  {
   "cell_type": "markdown",
   "metadata": {},
   "source": [
    "$\\mathbf 1:$ $f(x) = x^2 + e^{x^2}$\n",
    "\n",
    "The Hessian matrix for this function is the single entry matrix $(4e^{x^2}x^2 + 2e^{x^2} + 2)$. We note that all $x$ terms are squared and the function is greater than 0 $\\forall x \\in \\mathbb{R}$. As a result, the Hessian is positive definite and the function is strictly convex.\n",
    "\n",
    "$\\mathbf 2:$ $f(x_1, x_2) = 2x_1^2 + 4x_1x_2 - 10x_1 + 5x_2$\n",
    "\n",
    "The Hessian matrix for this function is:\n",
    "\n",
    "\\begin{bmatrix}\n",
    " 4 & 4  \\\\\n",
    " 4 & 0  \\\\ \n",
    "\\end{bmatrix}\n",
    "\n",
    "This matrix has eigenvalues ($\\lambda_{1} = 6.47$, $\\lambda_{2} = -2.47$). As a result, the Hessian is indefinite and the original function is none of the above. \n",
    "\n",
    "$\\mathbf 3:$ $f(x_1, x_2) = x_1e^{-(x_1+x_2)}$\n",
    "\n",
    "The Hessian matrix for this function is \n",
    "\n",
    "\\begin{bmatrix}\n",
    "e^{-x_1 - x_2}x_1 - 2e^{-x_1-x_2} & e^{-x_1-x_2}x_1 - e^{-x_1-x_2} \\\\\n",
    "e^{-x_1-x_2}x_1 - e^{-x_1-x_2} & e^{-x_1-x_2}x_1 \\\\\n",
    "\\end{bmatrix}\n",
    "\n",
    "Or, alternatively:\n",
    "\n",
    "\\begin{bmatrix}\n",
    "e^{-x_1 - x_2}(x_1 - 2) & e^{-x_1-x_2}(x_1 - 1)\\\\\n",
    "e^{-x_1-x_2}(x_1 - 1) & e^{-x_1-x_2}x_1 \\\\\n",
    "\\end{bmatrix}\n",
    "\n",
    "We now look at each function in turn and comment on how they vary in $(x_1, x_2)$, and display a linearized approximation of the resulting contour plot."
   ]
  },
  {
   "cell_type": "code",
   "execution_count": 595,
   "metadata": {},
   "outputs": [],
   "source": [
    "def display_contour_plot(f):\n",
    "\n",
    "    fig = plt.figure(figsize=(6,5))\n",
    "    left, bottom, width, height = 0.1, 0.1, 0.8, 0.8\n",
    "    ax = fig.add_axes([left, bottom, width, height]) \n",
    "\n",
    "    start, stop, n_values = -5, 5, 1000\n",
    "\n",
    "    x1_vals = np.linspace(start, stop, n_values)\n",
    "    x2_vals = np.linspace(start, stop, n_values)\n",
    "    X_1, X_2 = np.meshgrid(x1_vals, x2_vals)\n",
    "\n",
    "    Z = f(X_1, X_2)\n",
    "\n",
    "    norm = cm.colors.Normalize(vmax=abs(Z).max(), vmin=-abs(Z).max())\n",
    "\n",
    "    cp = plt.contourf(X, Y, Z)\n",
    "    plt.colorbar(cp)\n",
    "\n",
    "    ax.set_title('Contour plot of $b(x_1, x_2)$')\n",
    "    ax.set_xlabel('x_1')\n",
    "    ax.set_ylabel('x_2')\n",
    "    plt.show()\n",
    "    \n",
    "def f_1(X_1, X_2):\n",
    "    return np.exp(-X_1-X_2)*(X_1 - 2)\n",
    "\n",
    "def f_2(X_1, X_2):\n",
    "    return np.exp(-X_1-X_2)*(X_1 - 1)\n",
    "\n",
    "def f_3(X_1, X_2):\n",
    "    return np.exp(-X_1-X_2)*(X_1)"
   ]
  },
  {
   "cell_type": "markdown",
   "metadata": {},
   "source": [
    "$f_1(x_1, x_2) = e^{-x_1 - x_2}(x_1 - 2)$ : has a root at $x_1 = 2$."
   ]
  },
  {
   "cell_type": "code",
   "execution_count": 596,
   "metadata": {},
   "outputs": [
    {
     "data": {
      "image/png": "[encoded data removed]",
      "text/plain": [
       "<Figure size 432x360 with 2 Axes>"
      ]
     },
     "metadata": {
      "needs_background": "light"
     },
     "output_type": "display_data"
    }
   ],
   "source": [
    "display_contour_plot(f_1)"
   ]
  },
  {
   "cell_type": "markdown",
   "metadata": {},
   "source": [
    "$f_2(x_1, x_2) = e^{-x_1-x_2}(x_1 - 1)$: has a root at $x_1 = 1$. "
   ]
  },
  {
   "cell_type": "code",
   "execution_count": 597,
   "metadata": {},
   "outputs": [
    {
     "data": {
      "image/png": "[encoded data removed]",
      "text/plain": [
       "<Figure size 432x360 with 2 Axes>"
      ]
     },
     "metadata": {
      "needs_background": "light"
     },
     "output_type": "display_data"
    }
   ],
   "source": [
    "display_contour_plot(f_2)"
   ]
  },
  {
   "cell_type": "markdown",
   "metadata": {},
   "source": [
    "$f_3(x_1, x_2) = e^{-x_1-x_2}x_1$: has a root at $x_1 = 0$"
   ]
  },
  {
   "cell_type": "code",
   "execution_count": 598,
   "metadata": {},
   "outputs": [
    {
     "data": {
      "image/png": "[encoded data removed]",
      "text/plain": [
       "<Figure size 432x360 with 2 Axes>"
      ]
     },
     "metadata": {
      "needs_background": "light"
     },
     "output_type": "display_data"
    }
   ],
   "source": [
    "display_contour_plot(f_3)"
   ]
  },
  {
   "cell_type": "markdown",
   "metadata": {},
   "source": [
    "Noting the change in curvature across sample values of $x_1, x_2 \\in [-4, 4]$, we note that the Hessian is indefinite and the original function is none of the above."
   ]
  },
  {
   "cell_type": "markdown",
   "metadata": {},
   "source": [
    "$\\mathbf 4:$ $f(x_1, x_2, x_3) = -x_1^2 - 3x_2^2 + 4x_1x_2 + 2x_1x_3 + 4x_2x_3$\n",
    "\n",
    "The Hessian matrix for this function is:\n",
    "\n",
    "\\begin{bmatrix}\n",
    " -2 & 4 & 2  \\\\\n",
    " 4 & -6 & 4  \\\\ \n",
    " 2 & 4 & 0 \\\\\n",
    "\\end{bmatrix}\n",
    "\n",
    "This matrix has eigenvalues $(\\lambda_{1} = -3.7$, $\\lambda_{2} = 9.7$, $\\lambda_{3} = -2.0)$. As a result, the Hessian is indefinite and the original function is none of the above."
   ]
  },
  {
   "cell_type": "markdown",
   "metadata": {},
   "source": [
    "## Problem 5:\n",
    "\n",
    "(Exercise 1.1.1 from Nonlinear Programming) For each value of the scalar $\\beta$, find the set of all stationary points of the following function:\n",
    "\n",
    "$$f(x, y) = x^2 + y^2 + \\beta xy + x + 2y$$\n",
    "\n",
    "Which of these stationary points are global minima?\n",
    "\n",
    "First, we calculate the partial derivatives of the function.\n",
    "\n",
    "$\\frac{df}{dx} = 2x + \\beta y + 1$\n",
    "\n",
    "$\\frac{df}{dy} = \\beta x + 2y + 2$\n",
    "\n",
    "Setting both of these equations to zero, and putting forming the matrix solution:\n",
    "\n",
    "$$ \\mathbf A\\mathbf x = \\mathbf b$$\n",
    "\n",
    "$$\\mathbf A = \\begin{bmatrix}\n",
    "2 & \\beta   \\\\\n",
    " \\beta & 2  \\\\ \n",
    "\\end{bmatrix},\n",
    "\\mathbf x = \\begin{bmatrix}\n",
    " x   \\\\\n",
    " y  \\\\ \n",
    "\\end{bmatrix},\n",
    "\\mathbf b = \\begin{bmatrix}\n",
    " -1   \\\\\n",
    " -2  \\\\ \n",
    "\\end{bmatrix}\n",
    "$$\n",
    "\n",
    "We note two important items. First, if we fix $\\beta$ to be a constant value, we also fix the solution $(x, y)$ and the corresponding $f(x, y)$. Second, when solving this system of linear equations, this matrix will not be invertible when $det(A) = 0$.\n",
    "\n",
    "$det(A) = 4 - \\beta^2 = 0$\n",
    "\n",
    "As a result, when $\\beta = \\pm 2$ there are no solutions to the linear system of equations. However, we show below that the $\\lim_{\\beta \\to -2} f(x) = -\\infty$. Therefore, there will always be some arbitrarily small amount we can add to $\\beta$ as $\\beta \\to -2$ from the direction of $\\beta = 0$ that will produce a lower value of $f(x, y)$. Therefore, none of these stationary points are global minima."
   ]
  },
  {
   "cell_type": "code",
   "execution_count": 599,
   "metadata": {},
   "outputs": [
    {
     "name": "stdout",
     "output_type": "stream",
     "text": [
      "beta = -1.9999799959991997 x = -74984.87,y = -74985.13\n",
      "f(x, y) = -112477.56\n"
     ]
    }
   ],
   "source": [
    "def z(x, y, beta):\n",
    "    return (x**2 + y**2 + beta*x*y + x + 2*y)\n",
    "\n",
    "solutions = {}\n",
    "for b in np.linspace(-2.1, -1.9, 5000):\n",
    "    A = np.matrix([[2, b], [b, 2]])\n",
    "    B = np.matrix([[-1], [-2]])\n",
    "    x, y = np.linalg.inv(A).dot(B)\n",
    "    x = x.item(0)\n",
    "    y = y.item(0)\n",
    "    \n",
    "    solutions[b] = {\n",
    "        \"x\": x,\n",
    "        \"y\": y,\n",
    "        \"z\": z(x, y, b),\n",
    "        \"b\": b,\n",
    "    }\n",
    "\n",
    "\n",
    "d = {\n",
    "        (val[\"x\"], val[\"y\"], val[\"b\"]): val[\"z\"] \n",
    "         for val in solutions.values()\n",
    "    }\n",
    "\n",
    "key = min(d, key=d.get)\n",
    "print(f\"beta = {key[2]}\",\n",
    "      f\"x = {round(key[0],2)},\"\n",
    "      f\"y = {round(key[1], 2)}\")\n",
    "\n",
    "print(f\"f(x, y) = {round(d[key], 2)}\")\n",
    "\n",
    "b_vals = list(solutions.keys())\n",
    "z_vals = [solutions[b]['z'] for b in b_vals]"
   ]
  },
  {
   "cell_type": "code",
   "execution_count": 600,
   "metadata": {},
   "outputs": [
    {
     "data": {
      "image/png": "[encoded data removed]",
      "text/plain": [
       "<Figure size 432x288 with 1 Axes>"
      ]
     },
     "metadata": {
      "needs_background": "light"
     },
     "output_type": "display_data"
    }
   ],
   "source": [
    "pd.DataFrame({'b': b_vals, 'z': z_vals}).plot.scatter(\n",
    "    x='b', y='z', s=3, title=\"z=f(x, y)\")\n",
    "plt.show()"
   ]
  }
 ],
 "metadata": {
  "kernelspec": {
   "display_name": "Python [conda env:or] *",
   "language": "python",
   "name": "conda-env-or-py"
  },
  "language_info": {
   "codemirror_mode": {
    "name": "ipython",
    "version": 3
   },
   "file_extension": ".py",
   "mimetype": "text/x-python",
   "name": "python",
   "nbconvert_exporter": "python",
   "pygments_lexer": "ipython3",
   "version": "3.7.9"
  },
  "latex_envs": {
   "LaTeX_envs_menu_present": true,
   "autoclose": false,
   "autocomplete": true,
   "bibliofile": "biblio.bib",
   "cite_by": "apalike",
   "current_citInitial": 1,
   "eqLabelWithNumbers": true,
   "eqNumInitial": 1,
   "hotkeys": {
    "equation": "Ctrl-E",
    "itemize": "Ctrl-I"
   },
   "labels_anchors": false,
   "latex_user_defs": false,
   "report_style_numbering": false,
   "user_envs_cfg": false
  }
 },
 "nbformat": 4,
 "nbformat_minor": 4
}
